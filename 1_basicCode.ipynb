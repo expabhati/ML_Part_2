{
 "cells": [
  {
   "cell_type": "code",
   "execution_count": 43,
   "metadata": {},
   "outputs": [
    {
     "name": "stdout",
     "output_type": "stream",
     "text": [
      "Tensor(\"Const_40:0\", shape=(), dtype=int16) Tensor(\"Const_41:0\", shape=(), dtype=int16)\n",
      "13\n",
      "[6, 7]\n"
     ]
    }
   ],
   "source": [
    "import tensorflow as tf\n",
    "\n",
    "a = tf.constant(6, tf.int16)\n",
    "b = tf.constant(7, tf.int16)\n",
    "\n",
    "c = a + b\n",
    "\n",
    "print(a,b)\n",
    "\n",
    "\n",
    "# First way of using session\n",
    "sess = tf.Session()\n",
    "\n",
    "print(sess.run(c))\n",
    "\n",
    "sess.close()\n",
    "\n",
    "\n",
    "# Second way of using session\n",
    "\n",
    "with tf.Session() as sess:\n",
    "    output = sess.run([a,b])\n",
    "    print(output)"
   ]
  },
  {
   "cell_type": "code",
   "execution_count": 44,
   "metadata": {},
   "outputs": [
    {
     "name": "stdout",
     "output_type": "stream",
     "text": [
      "[3 7]\n"
     ]
    }
   ],
   "source": [
    "import tensorflow as tf\n",
    "\n",
    "a = tf.placeholder(tf.int16)\n",
    "b = tf.placeholder(tf.int16)\n",
    "\n",
    "adder_node = a + b\n",
    "\n",
    "#File_Writer = tf.summary.FileWriter(\"/Users/asinghal/PycharmProjects/firstCondaProject/tensorboard\", tf.get_default_graph())\n",
    "\n",
    "with tf.Session() as sess:\n",
    "    output = sess.run(adder_node, {a : [1,3],b: [2,4]})\n",
    "    print(output)"
   ]
  },
  {
   "cell_type": "code",
   "execution_count": 45,
   "metadata": {},
   "outputs": [
    {
     "name": "stdout",
     "output_type": "stream",
     "text": [
      "[ 0.30000001  0.40000001  0.5         0.60000002]\n"
     ]
    }
   ],
   "source": [
    "import tensorflow as tf\n",
    "\n",
    "W = tf.Variable([0.1], tf.float32)\n",
    "b = tf.Variable([0.2], tf.float32)\n",
    "x = tf.placeholder(tf.float32)\n",
    "\n",
    "linear_model = W*x + b\n",
    "init = tf.global_variables_initializer()\n",
    "\n",
    "with tf.Session() as sess:\n",
    "    sess.run(init)\n",
    "    output = sess.run(linear_model, {x : [1,2,3,4]})\n",
    "    print(output)"
   ]
  },
  {
   "cell_type": "code",
   "execution_count": 46,
   "metadata": {},
   "outputs": [
    {
     "name": "stdout",
     "output_type": "stream",
     "text": [
      "126.0\n"
     ]
    }
   ],
   "source": [
    "import tensorflow as tf\n",
    "\n",
    "W = tf.Variable([2.0], tf.float32)\n",
    "b = tf.Variable([3.0], tf.float32)\n",
    "x = tf.placeholder(tf.float32)\n",
    "\n",
    "linear_model = W*x + b\n",
    "\n",
    "y = tf.placeholder(tf.float32)\n",
    "\n",
    "#loss\n",
    "squared_delta = tf.square(linear_model - y)\n",
    "\n",
    "loss = tf.reduce_sum(squared_delta)\n",
    "\n",
    "init = tf.global_variables_initializer()\n",
    "\n",
    "with tf.Session() as sess:\n",
    "    sess.run(init)\n",
    "    output = sess.run(loss, {x : [1,2,3,4], y : [1, 2, 3, 4]})\n",
    "    print(output)"
   ]
  },
  {
   "cell_type": "code",
   "execution_count": 47,
   "metadata": {},
   "outputs": [
    {
     "name": "stdout",
     "output_type": "stream",
     "text": [
      "0.0\n"
     ]
    }
   ],
   "source": [
    "import tensorflow as tf\n",
    "\n",
    "W = tf.Variable([1.0], tf.float32)\n",
    "b = tf.Variable([0.0], tf.float32)\n",
    "x = tf.placeholder(tf.float32)\n",
    "\n",
    "linear_model = W*x + b\n",
    "\n",
    "y = tf.placeholder(tf.float32)\n",
    "\n",
    "#loss\n",
    "squared_delta = tf.square(linear_model - y)\n",
    "\n",
    "loss = tf.reduce_sum(squared_delta)\n",
    "\n",
    "init = tf.global_variables_initializer()\n",
    "\n",
    "with tf.Session() as sess:\n",
    "    sess.run(init)\n",
    "    output = sess.run(loss, {x : [1,2,3,4], y : [1, 2, 3, 4]})\n",
    "    print(output)"
   ]
  },
  {
   "cell_type": "code",
   "execution_count": 49,
   "metadata": {},
   "outputs": [
    {
     "name": "stdout",
     "output_type": "stream",
     "text": [
      "[array([ 1.99999642], dtype=float32), array([-1.49998987], dtype=float32)]\n"
     ]
    }
   ],
   "source": [
    "# Gradient Descent\n",
    "\n",
    "import tensorflow as tf\n",
    "\n",
    "W = tf.Variable([1.0], tf.float32)\n",
    "b = tf.Variable([0.0], tf.float32)\n",
    "x = tf.placeholder(tf.float32)\n",
    "\n",
    "linear_model = W*x + b\n",
    "\n",
    "y = tf.placeholder(tf.float32)\n",
    "\n",
    "#loss\n",
    "squared_delta = tf.square(linear_model - y)\n",
    "\n",
    "loss = tf.reduce_sum(squared_delta)\n",
    "\n",
    "optimizer = tf.train.GradientDescentOptimizer(0.01)\n",
    "\n",
    "train = optimizer.minimize(loss)\n",
    "\n",
    "init = tf.global_variables_initializer()\n",
    "\n",
    "with tf.Session() as sess:\n",
    "    sess.run(init)\n",
    "    for i in range(1000):\n",
    "        sess.run(train, {x : [1,2,3,4], y : [1, 2, 4, 7]})\n",
    "    \n",
    "    print(sess.run([W, b]))"
   ]
  },
  {
   "cell_type": "code",
   "execution_count": 9,
   "metadata": {},
   "outputs": [
    {
     "name": "stdout",
     "output_type": "stream",
     "text": [
      "[array([ 1.99999642], dtype=float32), array([-1.49998987], dtype=float32)]\n"
     ]
    }
   ],
   "source": [
    "# Gradient Descent\n",
    "\n",
    "import tensorflow as tf\n",
    "\n",
    "W = tf.Variable([1.0], tf.float32)\n",
    "b = tf.Variable([0.0], tf.float32)\n",
    "x = tf.placeholder(tf.float32)\n",
    "\n",
    "linear_model = W*x + b\n",
    "\n",
    "y = tf.placeholder(tf.float32)\n",
    "\n",
    "#loss\n",
    "squared_delta = tf.square(linear_model - y)\n",
    "\n",
    "loss = tf.reduce_sum(squared_delta)\n",
    "\n",
    "optimizer = tf.train.GradientDescentOptimizer(0.01)\n",
    "\n",
    "train = optimizer.minimize(loss)\n",
    "\n",
    "init = tf.global_variables_initializer()\n",
    "saver = tf.train.Saver()\n",
    "\n",
    "with tf.Session() as sess:\n",
    "    sess.run(init)\n",
    "    for i in range(1000):\n",
    "        sess.run(train, {x : [1,2,3,4], y : [1, 2, 4, 7]})\n",
    "    \n",
    "    print(sess.run([W, b]))\n",
    "    save_path = saver.save(sess, \"/tmp/my_model_final.ckpt\")\n",
    "    \n"
   ]
  },
  {
   "cell_type": "code",
   "execution_count": 10,
   "metadata": {},
   "outputs": [
    {
     "name": "stdout",
     "output_type": "stream",
     "text": [
      "INFO:tensorflow:Restoring parameters from /tmp/my_model_final.ckpt\n",
      "[array([ 1.99999642], dtype=float32), array([-1.49998987], dtype=float32)]\n"
     ]
    }
   ],
   "source": [
    "with tf.Session() as sess:   \n",
    "    saver.restore(sess, \"/tmp/my_model_final.ckpt\")\n",
    "    print(sess.run([W, b]))\n"
   ]
  },
  {
   "cell_type": "code",
   "execution_count": null,
   "metadata": {},
   "outputs": [],
   "source": []
  }
 ],
 "metadata": {
  "kernelspec": {
   "display_name": "Python 3",
   "language": "python",
   "name": "python3"
  },
  "language_info": {
   "codemirror_mode": {
    "name": "ipython",
    "version": 3
   },
   "file_extension": ".py",
   "mimetype": "text/x-python",
   "name": "python",
   "nbconvert_exporter": "python",
   "pygments_lexer": "ipython3",
   "version": "3.5.4"
  }
 },
 "nbformat": 4,
 "nbformat_minor": 1
}
